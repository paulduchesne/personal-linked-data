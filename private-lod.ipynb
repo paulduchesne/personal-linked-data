{
 "cells": [
  {
   "cell_type": "code",
   "execution_count": 1,
   "metadata": {},
   "outputs": [
    {
     "name": "stdout",
     "output_type": "stream",
     "text": [
      "713527d4-9feb-4015-be1d-6d3dd68b0e89.private.ttl contains 16 triples.\n"
     ]
    }
   ],
   "source": [
    "# declare private information.\n",
    "\n",
    "import ansible_vault\n",
    "import pandas\n",
    "import pathlib\n",
    "import rdflib\n",
    "\n",
    "graph = rdflib.Graph()\n",
    "\n",
    "# ideally this should pull exising private turtle file, decrypt, append any new data, encrypt and save.\n",
    "\n",
    "ont = rdflib.Namespace(\"https://713527d4-9feb-4015-be1d-6d3dd68b0e89.org/ontology/\")\n",
    "res = rdflib.Namespace(\"https://713527d4-9feb-4015-be1d-6d3dd68b0e89.org/resource/\")\n",
    "\n",
    "graph.bind(\"ont\", ont)\n",
    "graph.bind(\"res\", res)\n",
    "\n",
    "sibling_data = pandas.read_csv(pathlib.Path.home() / 'data' / 'siblings.csv')\n",
    "for x in sibling_data.to_dict('records'):\n",
    "\n",
    "    # note that to do this properly, the siblings would contain label (and additional data) under their own turtle files.\n",
    "\n",
    "    graph.add((res['713527d4-9feb-4015-be1d-6d3dd68b0e89'], ont.hasSibling, res[x['id']]))\n",
    "    graph.add((res[x['id']], rdflib.RDFS.label, rdflib.Literal(x['label']))) #\n",
    "\n",
    "\n",
    "with open(pathlib.Path.home() / '.vault_pass') as key:\n",
    "\n",
    "    save_path = pathlib.Path.cwd() / '713527d4-9feb-4015-be1d-6d3dd68b0e89.private.ttl'\n",
    "    vault = ansible_vault.Vault(key.read())\n",
    "    vault.dump(graph.serialize(format=\"turtle\"), open(save_path, 'w'))\n",
    "\n",
    "    print(save_path.name, 'contains', len(graph), 'triples.')"
   ]
  }
 ],
 "metadata": {
  "kernelspec": {
   "display_name": "Python 3.9.7 64-bit",
   "language": "python",
   "name": "python3"
  },
  "language_info": {
   "codemirror_mode": {
    "name": "ipython",
    "version": 3
   },
   "file_extension": ".py",
   "mimetype": "text/x-python",
   "name": "python",
   "nbconvert_exporter": "python",
   "pygments_lexer": "ipython3",
   "version": "3.9.7"
  },
  "orig_nbformat": 4,
  "vscode": {
   "interpreter": {
    "hash": "916dbcbb3f70747c44a77c7bcd40155683ae19c65e1c03b4aa3499c5328201f1"
   }
  }
 },
 "nbformat": 4,
 "nbformat_minor": 2
}
