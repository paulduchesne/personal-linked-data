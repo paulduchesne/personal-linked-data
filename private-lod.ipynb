{
 "cells": [
  {
   "cell_type": "code",
   "execution_count": 1,
   "metadata": {},
   "outputs": [
    {
     "name": "stdout",
     "output_type": "stream",
     "text": [
      "713527d4-9feb-4015-be1d-6d3dd68b0e89.private.ttl contains 18 triples.\n"
     ]
    }
   ],
   "source": [
    "# declare private information.\n",
    "\n",
    "import ansible_vault\n",
    "import pandas\n",
    "import pathlib\n",
    "import rdflib\n",
    "\n",
    "# dataset written to single entity\n",
    "\n",
    "with open(pathlib.Path.home() / '.vault_pass') as key:\n",
    "\n",
    "  save_path = pathlib.Path.cwd() / '713527d4-9feb-4015-be1d-6d3dd68b0e89.private.ttl'\n",
    "  vault = ansible_vault.Vault(key.read())\n",
    "  data = vault.load(open(save_path).read())\n",
    "\n",
    "graph = rdflib.Graph()\n",
    "graph.parse(data=data)\n",
    "\n",
    "ont = rdflib.Namespace(\"https://713527d4-9feb-4015-be1d-6d3dd68b0e89.org/ontology/\")\n",
    "res = rdflib.Namespace(\"https://713527d4-9feb-4015-be1d-6d3dd68b0e89.org/resource/\")\n",
    "\n",
    "graph.bind(\"ont\", ont)\n",
    "graph.bind(\"res\", res)\n",
    "\n",
    "parent_data = pandas.read_csv(pathlib.Path.home() / 'data' / 'parents.csv')\n",
    "for x in parent_data.to_dict('records'):\n",
    "  graph.add((res['713527d4-9feb-4015-be1d-6d3dd68b0e89'], ont.hasParent, res[x['id']]))\n",
    "\n",
    "with open(pathlib.Path.home() / '.vault_pass') as key:\n",
    "  save_path = pathlib.Path.cwd() / '713527d4-9feb-4015-be1d-6d3dd68b0e89.private.ttl'\n",
    "  vault = ansible_vault.Vault(key.read())\n",
    "  vault.dump(graph.serialize(format=\"turtle\"), open(save_path, 'w'))\n",
    "\n",
    "  print(save_path.name, 'contains', len(graph), 'triples.')"
   ]
  },
  {
   "cell_type": "code",
   "execution_count": 2,
   "metadata": {},
   "outputs": [
    {
     "name": "stdout",
     "output_type": "stream",
     "text": [
      "4ba84ad5-aaba-4504-b898-78278d4c2631.private.ttl contains 1 triples.\n",
      "c5521326-1293-4c05-a8e9-4ce8d7841532.private.ttl contains 1 triples.\n"
     ]
    }
   ],
   "source": [
    "# dataset written to multiple entities\n",
    "\n",
    "parent_data = pandas.read_csv(pathlib.Path.home() / 'data' / 'parents.csv')\n",
    "for x in parent_data.to_dict('records'):\n",
    "  save_path = pathlib.Path.cwd() / f\"{x['id']}.private.ttl\"\n",
    "\n",
    "  graph = rdflib.Graph()\n",
    "\n",
    "  ont = rdflib.Namespace(\"https://713527d4-9feb-4015-be1d-6d3dd68b0e89.org/ontology/\")\n",
    "  res = rdflib.Namespace(\"https://713527d4-9feb-4015-be1d-6d3dd68b0e89.org/resource/\")\n",
    "\n",
    "  graph.bind(\"ont\", ont)\n",
    "  graph.bind(\"res\", res)\n",
    "\n",
    "  if save_path.exists():\n",
    "    with open(pathlib.Path.home() / '.vault_pass') as key:\n",
    "      vault = ansible_vault.Vault(key.read())\n",
    "      data = vault.load(open(save_path).read())\n",
    "    graph.parse(data=data)\n",
    "\n",
    "  graph.add((res[x['id']], rdflib.RDFS.label, rdflib.Literal(x['label']))) \n",
    "\n",
    "  with open(pathlib.Path.home() / '.vault_pass') as key:\n",
    "    vault = ansible_vault.Vault(key.read())\n",
    "    vault.dump(graph.serialize(format=\"turtle\"), open(save_path, 'w'))\n",
    "\n",
    "    print(save_path.name, 'contains', len(graph), 'triples.')"
   ]
  }
 ],
 "metadata": {
  "kernelspec": {
   "display_name": "Python 3.9.7 64-bit",
   "language": "python",
   "name": "python3"
  },
  "language_info": {
   "codemirror_mode": {
    "name": "ipython",
    "version": 3
   },
   "file_extension": ".py",
   "mimetype": "text/x-python",
   "name": "python",
   "nbconvert_exporter": "python",
   "pygments_lexer": "ipython3",
   "version": "3.9.7"
  },
  "orig_nbformat": 4,
  "vscode": {
   "interpreter": {
    "hash": "916dbcbb3f70747c44a77c7bcd40155683ae19c65e1c03b4aa3499c5328201f1"
   }
  }
 },
 "nbformat": 4,
 "nbformat_minor": 2
}
