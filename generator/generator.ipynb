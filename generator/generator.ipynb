{
 "cells": [
  {
   "cell_type": "code",
   "execution_count": 1,
   "metadata": {},
   "outputs": [
    {
     "name": "stdout",
     "output_type": "stream",
     "text": [
      "38 triples.\n"
     ]
    }
   ],
   "source": [
    "import json\n",
    "import pathlib\n",
    "import pydash\n",
    "import rdflib\n",
    "import uuid\n",
    "\n",
    "def statement_wrapper(s,p,o,x):\n",
    "\n",
    "    ''' Wrap statements as literals, primarily for individual encryption. '''\n",
    "\n",
    "    meta_graph = rdflib.Graph()\n",
    "    meta_graph.bind(\"ont\", ont)\n",
    "    meta_graph.bind(\"res\", res)\n",
    "\n",
    "    statement_id = res[str(uuid.uuid4())]\n",
    "\n",
    "    if x == 'open':\n",
    "        meta_graph.add((statement_id, rdflib.RDF.type, ont.OpenStatement))\n",
    "    elif x == 'closed':\n",
    "        meta_graph.add((statement_id, rdflib.RDF.type, ont.ClosedStatement))\n",
    "    else:\n",
    "        raise Exception('Statements must be either open or closed!')\n",
    "\n",
    "    mini_graph = rdflib.Graph()\n",
    "    mini_graph.bind(\"ont\", ont)\n",
    "    mini_graph.bind(\"res\", res)\n",
    "    mini_graph.add((s, p, o))\n",
    "\n",
    "    payload = rdflib.Literal(str(mini_graph.serialize(format='n3')))\n",
    "    meta_graph.add((statement_id, ont.hasPayload, payload))\n",
    "    \n",
    "    return meta_graph\n",
    "\n",
    "with open(pathlib.Path.cwd() / 'data_in.json') as my_birth:\n",
    "    my_birth = json.load(my_birth)\n",
    "\n",
    "ont = rdflib.Namespace(\"https://713527d4-9feb-4015-be1d-6d3dd68b0e89.org/ontology/\")\n",
    "res = rdflib.Namespace(\"https://713527d4-9feb-4015-be1d-6d3dd68b0e89.org/resource/\")\n",
    "\n",
    "surface = rdflib.Graph()\n",
    "surface.bind(\"ont\", ont)\n",
    "surface.bind(\"res\", res)\n",
    "    \n",
    "surface += statement_wrapper(res[pydash.get(my_birth, 'id')], rdflib.RDF.type, ont[pydash.get(my_birth, 'event_type')], 'open')\n",
    "surface += statement_wrapper(res[pydash.get(my_birth, 'id')], ont.EventDate, rdflib.Literal(pydash.get(my_birth, 'event_date')), pydash.get(my_birth, 'visible'))\n",
    "surface += statement_wrapper(res[pydash.get(my_birth, 'id')], ont.EventLocation, res[pydash.get(my_birth, 'event_location.id')], pydash.get(my_birth, 'visible'))\n",
    "surface += statement_wrapper(res[pydash.get(my_birth, 'event_location.id')], rdflib.RDFS.label, rdflib.Literal(pydash.get(my_birth, 'event_location.name')), pydash.get(my_birth, 'visible'))\n",
    "\n",
    "for x in pydash.get(my_birth, 'agents'):\n",
    "    activity_id = res[str(uuid.uuid4())]\n",
    "    surface += statement_wrapper(res[pydash.get(my_birth, 'id')], ont.hasActivity, activity_id, pydash.get(my_birth, 'visible'))\n",
    "    surface += statement_wrapper(activity_id, rdflib.RDF.type, ont[pydash.get(x, 'activity')], pydash.get(my_birth, 'visible'))\n",
    "    surface += statement_wrapper(activity_id, ont.hasAgent, res[pydash.get(x, 'id')], pydash.get(my_birth, 'visible'))\n",
    "    surface += statement_wrapper(res[pydash.get(x, 'id')], rdflib.RDFS.label, rdflib.Literal(pydash.get(x, 'name')), pydash.get(my_birth, 'visible'))\n",
    "    surface += statement_wrapper(res[pydash.get(x, 'id')], rdflib.RDF.type, ont.Person, pydash.get(my_birth, 'visible'))\n",
    "    \n",
    "surface.serialize(destination=pathlib.Path.cwd() / 'data_out.json', format='json-ld')\n",
    "print(len(surface), 'triples.')\n"
   ]
  }
 ],
 "metadata": {
  "kernelspec": {
   "display_name": "Python 3.9.7 64-bit",
   "language": "python",
   "name": "python3"
  },
  "language_info": {
   "codemirror_mode": {
    "name": "ipython",
    "version": 3
   },
   "file_extension": ".py",
   "mimetype": "text/x-python",
   "name": "python",
   "nbconvert_exporter": "python",
   "pygments_lexer": "ipython3",
   "version": "3.9.7"
  },
  "orig_nbformat": 4,
  "vscode": {
   "interpreter": {
    "hash": "916dbcbb3f70747c44a77c7bcd40155683ae19c65e1c03b4aa3499c5328201f1"
   }
  }
 },
 "nbformat": 4,
 "nbformat_minor": 2
}
