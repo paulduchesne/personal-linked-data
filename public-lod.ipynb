{
 "cells": [
  {
   "cell_type": "code",
   "execution_count": 1,
   "metadata": {},
   "outputs": [
    {
     "name": "stdout",
     "output_type": "stream",
     "text": [
      "713527d4-9feb-4015-be1d-6d3dd68b0e89.public.ttl contains 5 triples.\n"
     ]
    }
   ],
   "source": [
    "# declare public information.\n",
    "\n",
    "import pathlib\n",
    "import rdflib\n",
    "\n",
    "graph = rdflib.Graph()\n",
    "ont = rdflib.Namespace(\"https://713527d4-9feb-4015-be1d-6d3dd68b0e89.org/ontology/\")\n",
    "res = rdflib.Namespace(\"https://713527d4-9feb-4015-be1d-6d3dd68b0e89.org/resource/\")\n",
    "\n",
    "graph.bind(\"ont\", ont)\n",
    "graph.bind(\"res\", res)\n",
    "\n",
    "subject = res['713527d4-9feb-4015-be1d-6d3dd68b0e89']\n",
    "\n",
    "graph.add((subject, rdflib.RDF.type, ont.Person))\n",
    "graph.add((subject, rdflib.RDFS.label, rdflib.Literal('Paul Duchesne')))\n",
    "graph.add((subject, rdflib.RDFS.comment, rdflib.Literal('Linked Open Data researcher', lang='en')))\n",
    "graph.add((subject, ont.hasStartDate, rdflib.Literal('1986-04-14', datatype=rdflib.XSD.dateTime)))\n",
    "graph.add((subject, ont.hasLocation, res.Paris))\n",
    "\n",
    "save_path = pathlib.Path.cwd() / '713527d4-9feb-4015-be1d-6d3dd68b0e89.public.ttl'\n",
    "graph.serialize(destination=str(save_path), format=\"turtle\")\n",
    "\n",
    "print(save_path.name, 'contains', len(graph), 'triples.')"
   ]
  }
 ],
 "metadata": {
  "kernelspec": {
   "display_name": "Python 3.9.7 64-bit",
   "language": "python",
   "name": "python3"
  },
  "language_info": {
   "codemirror_mode": {
    "name": "ipython",
    "version": 3
   },
   "file_extension": ".py",
   "mimetype": "text/x-python",
   "name": "python",
   "nbconvert_exporter": "python",
   "pygments_lexer": "ipython3",
   "version": "3.9.7"
  },
  "orig_nbformat": 4,
  "vscode": {
   "interpreter": {
    "hash": "916dbcbb3f70747c44a77c7bcd40155683ae19c65e1c03b4aa3499c5328201f1"
   }
  }
 },
 "nbformat": 4,
 "nbformat_minor": 2
}
