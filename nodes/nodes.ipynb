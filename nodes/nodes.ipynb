{
 "cells": [
  {
   "cell_type": "code",
   "execution_count": 23,
   "metadata": {},
   "outputs": [
    {
     "name": "stdout",
     "output_type": "stream",
     "text": [
      "all done.\n"
     ]
    }
   ],
   "source": [
    "# split graph into specific nodes per subject.\n",
    "\n",
    "import ansible_vault\n",
    "import json\n",
    "import pathlib\n",
    "import rdflib\n",
    "\n",
    "graph_in = rdflib.Graph()\n",
    "graph_in.parse(pathlib.Path.cwd().parents[0] / \"example\" / \"example.json\")\n",
    "\n",
    "ont = rdflib.Namespace(\"https://713527d4-9feb-4015-be1d-6d3dd68b0e89.org/ontology/\")\n",
    "res = rdflib.Namespace(\"https://713527d4-9feb-4015-be1d-6d3dd68b0e89.org/resource/\")\n",
    "\n",
    "graph_in.bind(\"ont\", ont)\n",
    "graph_in.bind(\"res\", res)\n",
    "\n",
    "subject_matter = dict()\n",
    "\n",
    "with open(pathlib.Path.cwd().parents[0] / \"example\" / \"keys.json\") as keys:\n",
    "    keys = json.load(keys)\n",
    "\n",
    "openstate = [\n",
    "    s for s, p, o in graph_in.triples((None, rdflib.RDF.type, ont.OpenStatement))\n",
    "]\n",
    "\n",
    "for s, p, o in graph_in.triples((None, None, None)):\n",
    "    if s in openstate and p == ont.hasPayload:\n",
    "        fragment = rdflib.Graph()\n",
    "        fragment.parse(data=o)\n",
    "        for a, b, c in fragment.triples((None, None, None)):\n",
    "            subject_matter[s] = a\n",
    "\n",
    "closedstate = [\n",
    "    s for s, p, o in graph_in.triples((None, rdflib.RDF.type, ont.ClosedStatement))\n",
    "]\n",
    "\n",
    "for s, p, o in graph_in.triples((None, None, None)):\n",
    "    if s in closedstate and p == ont.hasPayload:\n",
    "        fragment = rdflib.Graph()\n",
    "        unencruptr = ansible_vault.Vault(keys[str(s)]).load_raw(o).decode()\n",
    "        fragment.parse(data=unencruptr)\n",
    "        for a, b, c in fragment.triples((None, None, None)):\n",
    "            subject_matter[s] = a\n",
    "\n",
    "for s, p, o in graph_in.triples((None, None, None)):\n",
    "    target = pathlib.Path(subject_matter[s]).stem\n",
    "    target_file = pathlib.Path.cwd() / f\"{target}.json\"\n",
    "\n",
    "    fragment = rdflib.Graph()\n",
    "    if target_file.exists():\n",
    "        fragment.parse(target_file)\n",
    "    fragment.add((s, p, o))\n",
    "    fragment.serialize(destination=target_file, format=\"json-ld\")\n",
    "\n",
    "print(\"all done.\")\n"
   ]
  }
 ],
 "metadata": {
  "kernelspec": {
   "display_name": "Python 3.9.7 64-bit",
   "language": "python",
   "name": "python3"
  },
  "language_info": {
   "codemirror_mode": {
    "name": "ipython",
    "version": 3
   },
   "file_extension": ".py",
   "mimetype": "text/x-python",
   "name": "python",
   "nbconvert_exporter": "python",
   "pygments_lexer": "ipython3",
   "version": "3.9.7"
  },
  "orig_nbformat": 4,
  "vscode": {
   "interpreter": {
    "hash": "916dbcbb3f70747c44a77c7bcd40155683ae19c65e1c03b4aa3499c5328201f1"
   }
  }
 },
 "nbformat": 4,
 "nbformat_minor": 2
}
