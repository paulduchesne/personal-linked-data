{
 "cells": [
  {
   "cell_type": "code",
   "execution_count": 1,
   "metadata": {},
   "outputs": [
    {
     "name": "stdout",
     "output_type": "stream",
     "text": [
      "5\n",
      "https://713527d4-9feb-4015-be1d-6d3dd68b0e89.org/resource/713527d4-9feb-4015-be1d-6d3dd68b0e89\n",
      "https://713527d4-9feb-4015-be1d-6d3dd68b0e89.org/resource/d4b77081-311b-4a44-b388-6dfb826faa0d\n",
      "https://713527d4-9feb-4015-be1d-6d3dd68b0e89.org/resource/1f220116-86a8-4818-ae50-c1c39bbb06e9\n",
      "https://713527d4-9feb-4015-be1d-6d3dd68b0e89.org/resource/94efddce-3f2a-4838-a5fa-fcf4180e5584\n",
      "https://713527d4-9feb-4015-be1d-6d3dd68b0e89.org/resource/8605ab63-d1d0-4324-8997-8c33de2c3673\n"
     ]
    }
   ],
   "source": [
    "# split graph into specific nodes per subject.\n",
    "\n",
    "import ansible_vault\n",
    "import json\n",
    "import pathlib\n",
    "import pydash\n",
    "import rdflib\n",
    "\n",
    "graph_in = rdflib.Graph()\n",
    "\n",
    "for x in [x for x in (pathlib.Path.cwd().parents[0] / 'rdf').iterdir() if x.suffix == '.json']:\n",
    "    graph_in.parse(x)\n",
    "\n",
    "ont = rdflib.Namespace(\"https://713527d4-9feb-4015-be1d-6d3dd68b0e89.org/ontology/\")\n",
    "res = rdflib.Namespace(\"https://713527d4-9feb-4015-be1d-6d3dd68b0e89.org/resource/\")\n",
    "\n",
    "graph_in.bind(\"ont\", ont)\n",
    "graph_in.bind(\"res\", res)\n",
    "\n",
    "with open(pathlib.Path.cwd().parents[0] / \"authentication\" / \"keys.json\") as keys:\n",
    "    keys = json.load(keys)\n",
    "\n",
    "subjects = list()\n",
    "\n",
    "openstate = [\n",
    "    s for s, p, o in graph_in.triples((None, rdflib.RDF.type, ont.OpenStatement))\n",
    "]\n",
    "\n",
    "for s, p, o in graph_in.triples((None, None, None)):\n",
    "    if s in openstate and p == ont.hasPayload:\n",
    "        fragment = rdflib.Graph()\n",
    "        fragment.parse(data=o)\n",
    "        for a, b, c in fragment.triples((None, None, None)):\n",
    "            subjects.append(a)\n",
    "\n",
    "closedstate = [\n",
    "    s for s, p, o in graph_in.triples((None, rdflib.RDF.type, ont.ClosedStatement))\n",
    "]\n",
    "\n",
    "for s, p, o in graph_in.triples((None, None, None)):\n",
    "    if s in closedstate and p == ont.hasPayload:\n",
    "        fragment = rdflib.Graph()\n",
    "        unencruptr = ansible_vault.Vault(keys[str(s)]).load_raw(o).decode()\n",
    "        fragment.parse(data=unencruptr)\n",
    "        for a, b, c in fragment.triples((None, None, None)):\n",
    "            subjects.append(a)\n",
    "\n",
    "subjects = pydash.uniq(subjects)\n",
    "subjects = [x for x in subjects if 'well-known' not in str(x)]\n",
    "\n",
    "print(len(subjects)) # okay we have five files to write\n",
    "\n",
    "# next phase is that we decrypt the full graph and determine which statements belong to the subject, or are linked by blank nodes to the subject.\n",
    "\n",
    "for x in subjects:\n",
    "    print(x)\n"
   ]
  }
 ],
 "metadata": {
  "kernelspec": {
   "display_name": "Python 3.9.7 64-bit",
   "language": "python",
   "name": "python3"
  },
  "language_info": {
   "codemirror_mode": {
    "name": "ipython",
    "version": 3
   },
   "file_extension": ".py",
   "mimetype": "text/x-python",
   "name": "python",
   "nbconvert_exporter": "python",
   "pygments_lexer": "ipython3",
   "version": "3.9.7"
  },
  "orig_nbformat": 4,
  "vscode": {
   "interpreter": {
    "hash": "916dbcbb3f70747c44a77c7bcd40155683ae19c65e1c03b4aa3499c5328201f1"
   }
  }
 },
 "nbformat": 4,
 "nbformat_minor": 2
}
