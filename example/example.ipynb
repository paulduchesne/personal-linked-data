{
 "cells": [
  {
   "cell_type": "code",
   "execution_count": 1,
   "metadata": {},
   "outputs": [
    {
     "name": "stdout",
     "output_type": "stream",
     "text": [
      "38 triples.\n"
     ]
    }
   ],
   "source": [
    "# encrypt triples on closed statements.\n",
    "\n",
    "import ansible_vault\n",
    "import json\n",
    "import pathlib\n",
    "import rdflib\n",
    "import uuid\n",
    "\n",
    "ont = rdflib.Namespace(\"https://713527d4-9feb-4015-be1d-6d3dd68b0e89.org/ontology/\")\n",
    "res = rdflib.Namespace(\"https://713527d4-9feb-4015-be1d-6d3dd68b0e89.org/resource/\")\n",
    "\n",
    "graph_in = rdflib.Graph()\n",
    "graph_in.parse(pathlib.Path.cwd() / \"data.json\")\n",
    "graph_in.bind(\"ont\", ont)\n",
    "graph_in.bind(\"res\", res)\n",
    "\n",
    "graph_out = rdflib.Graph()\n",
    "\n",
    "keys = dict()\n",
    "closed = [\n",
    "    s for s, p, o in graph_in.triples((None, rdflib.RDF.type, ont.ClosedStatement))\n",
    "]\n",
    "\n",
    "for s, p, o in graph_in.triples((None, None, None)):\n",
    "    if s in closed and p == ont.hasPayload:\n",
    "        key = str(uuid.uuid4())\n",
    "        keys[s] = key\n",
    "        enc_statement = ansible_vault.Vault(key).dump_raw(o)\n",
    "        graph_out.add((s, p, rdflib.Literal(enc_statement)))\n",
    "    else:\n",
    "        graph_out.add((s, p, o))\n",
    "\n",
    "with open(pathlib.Path.cwd() / \"keys.json\", \"w\") as author:\n",
    "    json.dump(keys, author, indent=4)\n",
    "\n",
    "graph_out.serialize(\n",
    "    destination=str(pathlib.Path.cwd() / \"example.json\"), format=\"json-ld\"\n",
    ")\n",
    "print(len(graph_out), \"triples.\")\n"
   ]
  },
  {
   "cell_type": "code",
   "execution_count": 2,
   "metadata": {},
   "outputs": [
    {
     "name": "stdout",
     "output_type": "stream",
     "text": [
      "@prefix ont: <https://713527d4-9feb-4015-be1d-6d3dd68b0e89.org/ontology/> .\n",
      "@prefix rdfs: <http://www.w3.org/2000/01/rdf-schema#> .\n",
      "@prefix res: <https://713527d4-9feb-4015-be1d-6d3dd68b0e89.org/resource/> .\n",
      "\n",
      "res:d4b77081-311b-4a44-b388-6dfb826faa0d a ont:BirthEvent ;\n",
      "    ont:hasActivity res:6dfbacdc-b175-4cd4-8010-7dae5132707c .\n",
      "\n",
      "res:6dfbacdc-b175-4cd4-8010-7dae5132707c a ont:BeingBorn ;\n",
      "    ont:hasAgent res:713527d4-9feb-4015-be1d-6d3dd68b0e89 .\n",
      "\n",
      "res:713527d4-9feb-4015-be1d-6d3dd68b0e89 rdfs:label \"Paul Joseph Heslin\" .\n",
      "\n",
      "\n"
     ]
    }
   ],
   "source": [
    "# parse open statements.\n",
    "\n",
    "graph_in = rdflib.Graph()\n",
    "graph_in.parse(pathlib.Path.cwd() / \"example.json\")\n",
    "\n",
    "graph_out = rdflib.Graph()\n",
    "graph_out.bind(\"ont\", ont)\n",
    "graph_out.bind(\"res\", res)\n",
    "\n",
    "openstate = [\n",
    "    s for s, p, o in graph_in.triples((None, rdflib.RDF.type, ont.OpenStatement))\n",
    "]\n",
    "\n",
    "for s, p, o in graph_in.triples((None, None, None)):\n",
    "    if s in openstate and p == ont.hasPayload:\n",
    "        fragment = rdflib.Graph()\n",
    "        fragment.parse(data=o)\n",
    "        graph_out += fragment\n",
    "\n",
    "print(graph_out.serialize(format=\"ttl\"))\n"
   ]
  },
  {
   "cell_type": "code",
   "execution_count": 3,
   "metadata": {},
   "outputs": [
    {
     "name": "stdout",
     "output_type": "stream",
     "text": [
      "@prefix ont: <https://713527d4-9feb-4015-be1d-6d3dd68b0e89.org/ontology/> .\n",
      "@prefix rdfs: <http://www.w3.org/2000/01/rdf-schema#> .\n",
      "@prefix res: <https://713527d4-9feb-4015-be1d-6d3dd68b0e89.org/resource/> .\n",
      "\n",
      "res:d4b77081-311b-4a44-b388-6dfb826faa0d a ont:BirthEvent ;\n",
      "    ont:EventDate \"1986-04-14\" ;\n",
      "    ont:EventLocation res:8605ab63-d1d0-4324-8997-8c33de2c3673 ;\n",
      "    ont:hasActivity res:6dfbacdc-b175-4cd4-8010-7dae5132707c .\n",
      "\n",
      "res:6dfbacdc-b175-4cd4-8010-7dae5132707c a ont:BeingBorn ;\n",
      "    ont:hasAgent res:713527d4-9feb-4015-be1d-6d3dd68b0e89 .\n",
      "\n",
      "res:713527d4-9feb-4015-be1d-6d3dd68b0e89 rdfs:label \"Paul Joseph Heslin\" .\n",
      "\n",
      "res:8605ab63-d1d0-4324-8997-8c33de2c3673 rdfs:label \"Woden Valley Hospital\" .\n",
      "\n",
      "\n"
     ]
    }
   ],
   "source": [
    "# parse open and closed statements (where access has been explicitly granted).\n",
    "\n",
    "graph_in = rdflib.Graph()\n",
    "graph_in.parse(pathlib.Path.cwd() / \"example.json\")\n",
    "\n",
    "graph_out = rdflib.Graph()\n",
    "graph_out.bind(\"ont\", ont)\n",
    "graph_out.bind(\"res\", res)\n",
    "\n",
    "openstate = [\n",
    "    s for s, p, o in graph_in.triples((None, rdflib.RDF.type, ont.OpenStatement))\n",
    "]\n",
    "\n",
    "for s, p, o in graph_in.triples((None, None, None)):\n",
    "    if s in openstate and p == ont.hasPayload:\n",
    "        fragment = rdflib.Graph()\n",
    "        fragment.parse(data=o)\n",
    "        graph_out += fragment\n",
    "\n",
    "with open(pathlib.Path.cwd() / \"keys.json\") as keys:\n",
    "    keys = json.load(keys)\n",
    "\n",
    "allowed = [\n",
    "    \"https://713527d4-9feb-4015-be1d-6d3dd68b0e89.org/resource/70596b59-85e3-4fea-81b7-9c3772ebe773\",\n",
    "    \"https://713527d4-9feb-4015-be1d-6d3dd68b0e89.org/resource/2aea7061-37ff-4581-8d99-327fa210b75d\",\n",
    "    \"https://713527d4-9feb-4015-be1d-6d3dd68b0e89.org/resource/858f454c-b0a9-4cfb-b280-73204f1fa2b8\",\n",
    "]\n",
    "\n",
    "allowed_keys = {x: v for x, v in keys.items() if x in allowed}\n",
    "\n",
    "for s, p, o in graph_in.triples((None, None, None)):\n",
    "    if str(s) in allowed and p == ont.hasPayload:\n",
    "        fragment = rdflib.Graph()\n",
    "        unencruptr = ansible_vault.Vault(allowed_keys[str(s)]).load_raw(o).decode()\n",
    "        fragment.parse(data=unencruptr)\n",
    "        graph_out += fragment\n",
    "\n",
    "print(graph_out.serialize(format=\"ttl\"))\n"
   ]
  }
 ],
 "metadata": {
  "kernelspec": {
   "display_name": "Python 3.9.7 64-bit",
   "language": "python",
   "name": "python3"
  },
  "language_info": {
   "codemirror_mode": {
    "name": "ipython",
    "version": 3
   },
   "file_extension": ".py",
   "mimetype": "text/x-python",
   "name": "python",
   "nbconvert_exporter": "python",
   "pygments_lexer": "ipython3",
   "version": "3.9.7"
  },
  "orig_nbformat": 4,
  "vscode": {
   "interpreter": {
    "hash": "916dbcbb3f70747c44a77c7bcd40155683ae19c65e1c03b4aa3499c5328201f1"
   }
  }
 },
 "nbformat": 4,
 "nbformat_minor": 2
}
